{
    "cells": [
        {
            "cell_type": "markdown",
            "metadata": {},
            "source": "# Description"
        },
        {
            "cell_type": "code",
            "execution_count": 2,
            "metadata": {},
            "outputs": [
                {
                    "data": {
                        "text/html": "<div>\n<style scoped>\n    .dataframe tbody tr th:only-of-type {\n        vertical-align: middle;\n    }\n\n    .dataframe tbody tr th {\n        vertical-align: top;\n    }\n\n    .dataframe thead th {\n        text-align: right;\n    }\n</style>\n<table border=\"1\" class=\"dataframe\">\n  <thead>\n    <tr style=\"text-align: right;\">\n      <th></th>\n      <th>year</th>\n      <th>resource</th>\n      <th>variable</th>\n      <th>units</th>\n      <th>magnitude</th>\n      <th>source</th>\n      <th>data_value</th>\n      <th>flag</th>\n    </tr>\n  </thead>\n  <tbody>\n    <tr>\n      <th>0</th>\n      <td>2007</td>\n      <td>Biogas</td>\n      <td>Closing stock</td>\n      <td>Dollars</td>\n      <td>Thousands</td>\n      <td>Environmental Accounts</td>\n      <td>86656.00</td>\n      <td>R</td>\n    </tr>\n    <tr>\n      <th>1</th>\n      <td>2007</td>\n      <td>Biogas</td>\n      <td>Generation</td>\n      <td>Gigawatt hours</td>\n      <td>Actual</td>\n      <td>MBIE</td>\n      <td>224.00</td>\n      <td>F</td>\n    </tr>\n    <tr>\n      <th>2</th>\n      <td>2007</td>\n      <td>Biogas</td>\n      <td>Gigawatt hours</td>\n      <td>Number</td>\n      <td>Proportion</td>\n      <td>MBIE</td>\n      <td>0.01</td>\n      <td>F</td>\n    </tr>\n    <tr>\n      <th>3</th>\n      <td>2007</td>\n      <td>Biogas</td>\n      <td>Opening stock</td>\n      <td>Dollars</td>\n      <td>Thousands</td>\n      <td>Environmental Accounts</td>\n      <td>NaN</td>\n      <td>F</td>\n    </tr>\n    <tr>\n      <th>4</th>\n      <td>2007</td>\n      <td>Biogas</td>\n      <td>Other changes</td>\n      <td>Dollars</td>\n      <td>Thousands</td>\n      <td>Environmental Accounts</td>\n      <td>NaN</td>\n      <td>F</td>\n    </tr>\n  </tbody>\n</table>\n</div>",
                        "text/plain": "   year resource        variable           units   magnitude  \\\n0  2007   Biogas   Closing stock         Dollars   Thousands   \n1  2007   Biogas      Generation  Gigawatt hours      Actual   \n2  2007   Biogas  Gigawatt hours          Number  Proportion   \n3  2007   Biogas   Opening stock         Dollars   Thousands   \n4  2007   Biogas   Other changes         Dollars   Thousands   \n\n                   source  data_value flag  \n0  Environmental Accounts    86656.00    R  \n1                    MBIE      224.00    F  \n2                    MBIE        0.01    F  \n3  Environmental Accounts         NaN    F  \n4  Environmental Accounts         NaN    F  "
                    },
                    "execution_count": 2,
                    "metadata": {},
                    "output_type": "execute_result"
                }
            ],
            "source": "# The code was removed by Watson Studio for sharing."
        },
        {
            "cell_type": "code",
            "execution_count": null,
            "metadata": {},
            "outputs": [],
            "source": ""
        }
    ],
    "metadata": {
        "kernelspec": {
            "display_name": "Python 3.9",
            "language": "python",
            "name": "python3"
        },
        "language_info": {
            "codemirror_mode": {
                "name": "ipython",
                "version": 3
            },
            "file_extension": ".py",
            "mimetype": "text/x-python",
            "name": "python",
            "nbconvert_exporter": "python",
            "pygments_lexer": "ipython3",
            "version": "3.9.12"
        }
    },
    "nbformat": 4,
    "nbformat_minor": 1
}